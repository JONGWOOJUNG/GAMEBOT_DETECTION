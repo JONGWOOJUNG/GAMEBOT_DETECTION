{
 "cells": [
  {
   "cell_type": "code",
   "execution_count": 1,
   "metadata": {
    "ExecuteTime": {
     "end_time": "2020-10-12T16:14:57.776195Z",
     "start_time": "2020-10-12T16:14:57.753195Z"
    }
   },
   "outputs": [],
   "source": [
    "import pickle\n",
    "import glob\n",
    "import pandas as pd\n",
    "import numpy as np"
   ]
  },
  {
   "cell_type": "code",
   "execution_count": 2,
   "metadata": {},
   "outputs": [],
   "source": [
    "path = './pickled/13일17일'\n",
    "\n",
    "file_list = glob.glob(path + \"\\\\*.pkl\")\n",
    "df_list = []\n",
    "\n",
    "for file in file_list:\n",
    "    current_data = pd.read_pickle(file)\n",
    "    df_list.append(current_data)"
   ]
  },
  {
   "cell_type": "code",
   "execution_count": 3,
   "metadata": {},
   "outputs": [
    {
     "data": {
      "text/plain": [
       "5"
      ]
     },
     "execution_count": 3,
     "metadata": {},
     "output_type": "execute_result"
    }
   ],
   "source": [
    "len(df_list)"
   ]
  },
  {
   "cell_type": "code",
   "execution_count": 21,
   "metadata": {},
   "outputs": [],
   "source": [
    "# dat01 = df_list[0] #8\n",
    "# train02 = dat01.copy()\n",
    "# dat02 = df_list[1] #9\n",
    "# train02 = dat02.copy()\n",
    "# dat03 = df_list[2] #10\n",
    "# train02 = dat03.copy()\n",
    "# dat04 = df_list[3] #11\n",
    "# train02 = dat04.copy()\n",
    "# dat05 = df_list[4] #12\n",
    "# train02 = dat05.copy()\n",
    "# dat06 = df_list[0] #13\n",
    "# train02 = dat06.copy()\n",
    "# dat07 = df_list[1] #14\n",
    "# train02 = dat07.copy()\n",
    "# dat08 = df_list[2] #15\n",
    "# train02 = dat08.copy()\n",
    "# dat09 = df_list[3] #16\n",
    "# train02 = dat09.copy()\n",
    "dat10 = df_list[4] #17\n",
    "train02 = dat10.copy()"
   ]
  },
  {
   "cell_type": "markdown",
   "metadata": {},
   "source": [
    "# pivot table 생성"
   ]
  },
  {
   "cell_type": "code",
   "execution_count": 22,
   "metadata": {
    "ExecuteTime": {
     "end_time": "2020-10-12T16:35:00.779228Z",
     "start_time": "2020-10-12T16:35:00.702231Z"
    }
   },
   "outputs": [],
   "source": [
    "# pivot_table\n",
    "train02['count'] = 1\n",
    "train02['log_id'].astype(str)\n",
    "train03 = train02.pivot_table(values = 'count', index = 'actor_account', columns = 'log_id', aggfunc = sum, fill_value = 0)\n",
    "train03.rename({'account':'actor_account'}, axis = 1)\n",
    "train04 = train03.copy()"
   ]
  },
  {
   "cell_type": "markdown",
   "metadata": {},
   "source": [
    "# 변수생성"
   ]
  },
  {
   "cell_type": "code",
   "execution_count": 23,
   "metadata": {
    "scrolled": true
   },
   "outputs": [],
   "source": [
    "day = 'day17'"
   ]
  },
  {
   "cell_type": "code",
   "execution_count": 24,
   "metadata": {},
   "outputs": [
    {
     "name": "stderr",
     "output_type": "stream",
     "text": [
      "<ipython-input-24-9e8650a4393c>:19: SettingWithCopyWarning: \n",
      "A value is trying to be set on a copy of a slice from a DataFrame.\n",
      "Try using .loc[row_indexer,col_indexer] = value instead\n",
      "\n",
      "See the caveats in the documentation: https://pandas.pydata.org/pandas-docs/stable/user_guide/indexing.html#returning-a-view-versus-a-copy\n",
      "  da01['for_count'] = da01['log_date'].str[0:10]\n",
      "<ipython-input-24-9e8650a4393c>:69: SettingWithCopyWarning: \n",
      "A value is trying to be set on a copy of a slice from a DataFrame.\n",
      "Try using .loc[row_indexer,col_indexer] = value instead\n",
      "\n",
      "See the caveats in the documentation: https://pandas.pydata.org/pandas-docs/stable/user_guide/indexing.html#returning-a-view-versus-a-copy\n",
      "  get_exp_amount['exp_amount'] = get_exp_amount['etc_num6'] - get_exp_amount['etc_num5']\n"
     ]
    }
   ],
   "source": [
    "header = train04.columns.astype(str)\n",
    "train04.columns = header\n",
    "train05 = train04.copy()\n",
    "train05['103'] = train05['103'].replace(0, 1)\n",
    "train05['160'] = train05['160'].replace(0, 1)\n",
    "# 모든 로그 카운트(log_sum)\n",
    "train05['log_sum']=train05.sum(axis=1) \n",
    "# 계정당 접속 ip 확인(ip_count)\n",
    "ip01 = train02[train02['log_id'] == 103]\n",
    "ip02 = ip01[['actor_account','etc_str1']]\n",
    "ip03 = ip02.drop_duplicates(subset = ['etc_str1'])\n",
    "ip04 = ip03.groupby('actor_account').count()\n",
    "ip04.rename({'etc_str1':'log_count'}, axis = 1, inplace = True)\n",
    "train05 = pd.merge(train05, ip04, on='actor_account', how='left')\n",
    "train05['log_count'] = train05['log_count'].fillna(1)\n",
    "train05['log_ip_ratio'] = (train05['103'] / train05['log_count']).round(4)\n",
    "# 접속일 계산(Max=10)\n",
    "da01 = train02[['actor_account', 'log_date']]\n",
    "da01['for_count'] = da01['log_date'].str[0:10]\n",
    "da01_gp = pd.DataFrame(data=da01.groupby('actor_account')['for_count'].nunique())\n",
    "da01_gp['for_count'] = 1\n",
    "da01_gp.rename(columns={\"for_count\":\"per_day\"},inplace=True)\n",
    "train05 = pd.merge(train05, da01_gp,left_on=train05.index,right_on=da01_gp.index, how='left',left_index=True, right_index=True)\n",
    "train05['log_ip_perday'] = (train05['103'] / train05['per_day']).round(4)\n",
    "# 전체 플레이시간\n",
    "train05.rename({'160':'play_time'},axis = 1, inplace = True)\n",
    "# train05['play_time'].fillna(1)\n",
    "# quiz 관련 변수\n",
    "train05['quiz_per_playtime'] = (train05['116'] / train05['play_time']).round(4)\n",
    "train05['quiz_per_logcount'] = (train05['116'] / train05['log_sum']).round(4)\n",
    "# 평균 플레이시간\n",
    "train05['ply_time_perlog'] = (train05['play_time'] / train05['103']).round(4)\n",
    "train05['ply_time_perday'] = (train05['play_time'] / train05['per_day']).round(4)\n",
    "# 최고레벨 max_level_of_a_day => 합치면서 10일치 확인\n",
    "lv01 = train02[train02['log_id'] == 104]\n",
    "lv02 = lv01[['actor','actor_account','etc_num4']]\n",
    "lv03 = lv02.sort_values(['actor'], ascending = False)\n",
    "lv04 = lv03.groupby('actor').max()\n",
    "lv05 = lv04.groupby('actor_account').max()\n",
    "lv05.rename(columns={\"etc_num4\":\"max_level_of_a_day\" + day}, inplace=True)\n",
    "train05 = pd.merge(train05, lv05, how='left', left_on=train05.index, right_on=lv05.index, right_index=True)\n",
    "# 앉은 횟수 비율\n",
    "train05['sit_per_time'] = (train05['118'] / train05['play_time']).round(4)\n",
    "# 전체 친구 수\n",
    "friends01 = train02[train02['log_id'] == 134]\n",
    "friends02 = friends01.drop_duplicates(['actor_account'],keep=\"last\")\n",
    "friends02.set_index(friends02['actor_account'], inplace = True)\n",
    "friends03 = friends02[['etc_num10']]\n",
    "train05 = pd.merge(train05, friends03, how='left',left_on=train05.index, right_on=friends03.index,left_index=True,right_index=True)\n",
    "train05.rename(columns={\"etc_num10\":\"friends_count\"},inplace=True)\n",
    "train05['friends_count'] = train05['friends_count'].fillna(0)\n",
    "# 총 플레이어 킬 횟수\n",
    "player_kill_count = train02[train02['log_id'] == 137]\n",
    "player_kill_count = player_kill_count['target_account'].value_counts()\n",
    "train05 = pd.merge(train05, player_kill_count,left_on=train05.index,right_on=player_kill_count.index, how='left',left_index=True,right_index=True)\n",
    "train05.rename(columns={\"target_account\":\"player_kill_count\"},inplace=True)\n",
    "train05['player_kill_count'] = train05['player_kill_count'].fillna(0)\n",
    "# 게임 시간 당 pc에게 죽음, NPC에게 죽음\n",
    "train05['killed_pc_pertime'] = (train05['137'] / train05['play_time']).round(4)\n",
    "train05['killed_npc_pertime'] = (train05['138'] / train05['play_time']).round(4)\n",
    "train05['killed_pc_pertime'] = train05['killed_pc_pertime'].fillna(0)\n",
    "train05['killed_npc_pertime'] = train05['killed_npc_pertime'].fillna(0)\n",
    "train05['killed_sum'] = train05['killed_pc_pertime'] + train05['killed_npc_pertime']\n",
    "# train05.drop(columns = ['137','138'], inplace = True)\n",
    "# 텔레포트\n",
    "train05['port_pertime'] = (train05['142'] / train05['play_time']).round(4)\n",
    "# 경험치(전체, 시간평균, 로그평균)\n",
    "get_exp_amount = train02[train02['log_id'] == 143]\n",
    "get_exp_amount['exp_amount'] = get_exp_amount['etc_num6'] - get_exp_amount['etc_num5']\n",
    "get_exp_amount = get_exp_amount[['actor_account', 'exp_amount']]\n",
    "get_exp_amount = get_exp_amount.groupby('actor_account').sum()\n",
    "train05 = pd.merge(train05,get_exp_amount, how='left',left_on=train05.index, right_on=get_exp_amount.index, right_index=True)\n",
    "train05['exp_pertime'] = (train05['exp_amount'] / train05['play_time']).round(4)\n",
    "train05['exp_perlog'] = (train05['exp_amount'] / train05['103']).round(4)\n",
    "train05['exp_amount'] = train05['exp_amount'].fillna(0)\n",
    "train05['exp_pertime'] = train05['exp_pertime'].fillna(0)\n",
    "train05['exp_perlog'] = train05['exp_perlog'].fillna(0)\n",
    "# 시공이용 관련\n",
    "train05['151_pertime'] = (train05['151'] / train05['play_time']).round(4)\n",
    "train05['151_perlog'] = (train05['151'] / train05['103']).round(4)\n",
    "# 얻은 어비스 획득량\n",
    "df_156_all = train02[train02['log_id']==156]\n",
    "df_156_all = df_156_all.drop_duplicates(subset='actor', keep='last')\n",
    "df_156_all = df_156_all.groupby(['actor_account']).sum()\n",
    "df_156_all['get_AP'] = df_156_all[['etc_num6']]\n",
    "df_156_all = df_156_all[['get_AP']]\n",
    "train05 = pd.merge(train05, df_156_all, how='left', left_on=train05.index, right_on=df_156_all.index, right_index=True)\n",
    "train05['get_AP'] = train05['get_AP'].fillna(0)\n",
    "train05['getap_pertime'] = (train05['get_AP'] / train05['play_time']).round(4).fillna(0)\n",
    "train05['getap_perlog'] = (train05['get_AP'] / train05['103']).round(4).fillna(0)\n",
    "# 누적 어비스 획득량\n",
    "df_156_all = train02[train02['log_id']==156]\n",
    "df_156_all = df_156_all.drop_duplicates(subset='actor', keep='last')\n",
    "df_156_all = df_156_all.groupby(['actor_account']).sum()\n",
    "df_156_all['total_AP'] = df_156_all[['etc_num6']]\n",
    "df_156_all = df_156_all[['total_AP']]\n",
    "train05 = pd.merge(train05, df_156_all, how='left', left_on=train05.index, right_on=df_156_all.index, right_index=True)\n",
    "train05['total_AP'] = train05['total_AP'].fillna(0)\n",
    "train05['totalap_pertime'] = (train05['total_AP'] / train05['play_time']).round(4).fillna(0)\n",
    "train05['totalap_perlog'] = (train05['total_AP'] / train05['103']).round(4).fillna(0)\n",
    "# 키나 관련 변수 생성\n",
    "train05['money_get'] = (train05['187'] / train05['play_time']).round(4).fillna(0)\n",
    "train05['money_use'] = (train05['188'] / train05['play_time']).round(4).fillna(0)\n",
    "train05['money_get_ratio'] = (train05['187'] / train05['103']).round(4).fillna(0)\n",
    "train05['money_use_ratio'] = (train05['188'] / train05['103']).round(4).fillna(0)\n",
    "# 증감 키나량\n",
    "mo01 = train02[train02['log_id'] == 104]\n",
    "mo02 = mo01[['actor_account','etc_num1']]\n",
    "mo03 = mo02.groupby('actor_account').sum()\n",
    "mo03.rename(columns={\"etc_num1\":\"exp_increasingrate\"}, inplace=True)\n",
    "train05 = pd.merge(train05, mo03, how='left', left_on=train05.index, right_on=mo03.index, right_index=True)\n",
    "train05['exp_increasingrate'] = train05['exp_pertime'].replace(0, 1)\n",
    "train05['exp_increasingrate'] = train05['exp_pertime'].fillna(1)\n",
    "train05['exp_pertime'] = (train05['exp_increasingrate'] / train05['play_time']).round(4).fillna(0)\n",
    "train05['exp_perlog'] = (train05['exp_increasingrate'] / train05['103']).round(4).fillna(0)\n",
    "# 아이템 관련\n",
    "item_get = train02[train02['log_id'] == 202]\n",
    "item_get = item_get.groupby('actor_account').sum()\n",
    "item_get = item_get[['etc_num1']]\n",
    "item_get.rename(columns={'etc_num1':'get_item'},inplace=True)\n",
    "train05 = pd.merge(train05, item_get, how='left', left_on=train05.index, right_on=item_get.index, right_index=True)\n",
    "train05['get_item'] = train05['get_item'].replace(0, 1)\n",
    "train05['get_item'] = train05['get_item'].fillna(1)\n",
    "train05['item_pertime'] = (train05['get_item'] / train05['play_time']).round(4).fillna(0)\n",
    "train05['item_perlog'] = (train05['get_item'] / train05['103']).round(4).fillna(0)\n",
    "train05.to_csv(day + 'TEST.csv',index=True)"
   ]
  },
  {
   "cell_type": "code",
   "execution_count": null,
   "metadata": {},
   "outputs": [],
   "source": []
  }
 ],
 "metadata": {
  "kernelspec": {
   "display_name": "Python 3",
   "language": "python",
   "name": "python3"
  },
  "language_info": {
   "codemirror_mode": {
    "name": "ipython",
    "version": 3
   },
   "file_extension": ".py",
   "mimetype": "text/x-python",
   "name": "python",
   "nbconvert_exporter": "python",
   "pygments_lexer": "ipython3",
   "version": "3.8.3"
  },
  "toc": {
   "base_numbering": 1,
   "nav_menu": {},
   "number_sections": true,
   "sideBar": true,
   "skip_h1_title": false,
   "title_cell": "Table of Contents",
   "title_sidebar": "Contents",
   "toc_cell": false,
   "toc_position": {},
   "toc_section_display": true,
   "toc_window_display": false
  },
  "varInspector": {
   "cols": {
    "lenName": 16,
    "lenType": 16,
    "lenVar": 40
   },
   "kernels_config": {
    "python": {
     "delete_cmd_postfix": "",
     "delete_cmd_prefix": "del ",
     "library": "var_list.py",
     "varRefreshCmd": "print(var_dic_list())"
    },
    "r": {
     "delete_cmd_postfix": ") ",
     "delete_cmd_prefix": "rm(",
     "library": "var_list.r",
     "varRefreshCmd": "cat(var_dic_list()) "
    }
   },
   "types_to_exclude": [
    "module",
    "function",
    "builtin_function_or_method",
    "instance",
    "_Feature"
   ],
   "window_display": false
  }
 },
 "nbformat": 4,
 "nbformat_minor": 4
}
