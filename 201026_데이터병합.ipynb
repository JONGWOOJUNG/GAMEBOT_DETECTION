{
 "cells": [
  {
   "cell_type": "code",
   "execution_count": 1,
   "metadata": {
    "ExecuteTime": {
     "end_time": "2020-10-12T16:14:57.776195Z",
     "start_time": "2020-10-12T16:14:57.753195Z"
    }
   },
   "outputs": [],
   "source": [
    "import pickle\n",
    "import pandas as pd\n",
    "import numpy as np"
   ]
  },
  {
   "cell_type": "markdown",
   "metadata": {},
   "source": [
    "# 학습용 데이터 전처리(100번대 제외)"
   ]
  },
  {
   "cell_type": "code",
   "execution_count": 2,
   "metadata": {},
   "outputs": [],
   "source": [
    "import glob\n",
    "\n",
    "path = './pickled'\n",
    "\n",
    "file_list = glob.glob(path + \"\\\\*.csv\")\n",
    "df_list = []\n",
    "\n",
    "for file in file_list:\n",
    "    current_data = pd.read_csv(file)\n",
    "    current_data.reset_index()\n",
    "    df_list.append(current_data)"
   ]
  },
  {
   "cell_type": "markdown",
   "metadata": {},
   "source": [
    "# 데이터 병합"
   ]
  },
  {
   "cell_type": "code",
   "execution_count": 3,
   "metadata": {
    "scrolled": true
   },
   "outputs": [],
   "source": [
    "train05 = pd.concat([df_list[0],df_list[1],df_list[2],df_list[3],df_list[4],df_list[5],df_list[6],df_list[7],df_list[8],df_list[9]], axis=0)\n",
    "train05 = train05.groupby(train05['actor_account']).sum()\n",
    "train05.drop(['actor_account'], axis=1, inplace=True)"
   ]
  },
  {
   "cell_type": "code",
   "execution_count": 4,
   "metadata": {
    "scrolled": true
   },
   "outputs": [],
   "source": [
    "# 최고레벨 수정\n",
    "max_level = train05[['max_level_of_a_dayday8','max_level_of_a_dayday9','max_level_of_a_dayday10','max_level_of_a_dayday11','max_level_of_a_dayday12','max_level_of_a_dayday13','max_level_of_a_dayday14','max_level_of_a_dayday15','max_level_of_a_dayday16','max_level_of_a_dayday17']]\n",
    "train05['max_level'] = max_level.max(axis=1)\n",
    "train05 = train05.drop(['max_level_of_a_dayday8','max_level_of_a_dayday9','max_level_of_a_dayday10','max_level_of_a_dayday11','max_level_of_a_dayday12','max_level_of_a_dayday13','max_level_of_a_dayday14','max_level_of_a_dayday15','max_level_of_a_dayday16','max_level_of_a_dayday17'], axis=1)"
   ]
  },
  {
   "cell_type": "code",
   "execution_count": 5,
   "metadata": {
    "scrolled": false
   },
   "outputs": [],
   "source": [
    "# 동일지점 접속률\n",
    "train05['same_ip_rate'] = (train05['103'] / train05['log_count']).round(4)\n",
    "# 친구 삭제, 등록, 차단 count\n",
    "train05['friend_action'] = train05['134'] + train05['135']\n",
    "# 보조 옵션\n",
    "train05['assist_option'] = train05['272'] + train05['273']  + train05['274']\n",
    "# 스킬 획득 및 삭제\n",
    "train05['skill_del_or_get'] = train05['401'] + train05['403']\n",
    "# 스티그마스킬 획득 및 삭제\n",
    "train05['stigmaskill_del_or_get'] = train05['406'] + train05['407']\n",
    "# 퀘스트관련 로그\n",
    "train05['quest_log_count'] = train05['501'] + train05['502'] + train05['503'] +train05['504'] + train05['505']\n",
    "# 레기온관련 로그\n",
    "train05['about_region'] = train05['601'] + train05['602'] + train05['603'] + train05['604']\n",
    "\n",
    "# 중복데이터 제거\n",
    "train05.drop(columns = ['134','135','272','273','274','401','403','406','407','501','502','503','504','505',\n",
    "                       '601','602','603','604'], axis = 1, inplace = True)"
   ]
  },
  {
   "cell_type": "code",
   "execution_count": 6,
   "metadata": {},
   "outputs": [
    {
     "data": {
      "text/html": [
       "<div>\n",
       "<style scoped>\n",
       "    .dataframe tbody tr th:only-of-type {\n",
       "        vertical-align: middle;\n",
       "    }\n",
       "\n",
       "    .dataframe tbody tr th {\n",
       "        vertical-align: top;\n",
       "    }\n",
       "\n",
       "    .dataframe thead th {\n",
       "        text-align: right;\n",
       "    }\n",
       "</style>\n",
       "<table border=\"1\" class=\"dataframe\">\n",
       "  <thead>\n",
       "    <tr style=\"text-align: right;\">\n",
       "      <th></th>\n",
       "      <th>103</th>\n",
       "      <th>104</th>\n",
       "      <th>110</th>\n",
       "      <th>112</th>\n",
       "      <th>113</th>\n",
       "      <th>114</th>\n",
       "      <th>115</th>\n",
       "      <th>116</th>\n",
       "      <th>118</th>\n",
       "      <th>119</th>\n",
       "      <th>...</th>\n",
       "      <th>197</th>\n",
       "      <th>607</th>\n",
       "      <th>max_level</th>\n",
       "      <th>same_ip_rate</th>\n",
       "      <th>friend_action</th>\n",
       "      <th>assist_option</th>\n",
       "      <th>skill_del_or_get</th>\n",
       "      <th>stigmaskill_del_or_get</th>\n",
       "      <th>quest_log_count</th>\n",
       "      <th>about_region</th>\n",
       "    </tr>\n",
       "    <tr>\n",
       "      <th>actor_account</th>\n",
       "      <th></th>\n",
       "      <th></th>\n",
       "      <th></th>\n",
       "      <th></th>\n",
       "      <th></th>\n",
       "      <th></th>\n",
       "      <th></th>\n",
       "      <th></th>\n",
       "      <th></th>\n",
       "      <th></th>\n",
       "      <th></th>\n",
       "      <th></th>\n",
       "      <th></th>\n",
       "      <th></th>\n",
       "      <th></th>\n",
       "      <th></th>\n",
       "      <th></th>\n",
       "      <th></th>\n",
       "      <th></th>\n",
       "      <th></th>\n",
       "      <th></th>\n",
       "    </tr>\n",
       "  </thead>\n",
       "  <tbody>\n",
       "    <tr>\n",
       "      <th>1000115</th>\n",
       "      <td>11</td>\n",
       "      <td>10</td>\n",
       "      <td>0</td>\n",
       "      <td>0</td>\n",
       "      <td>2</td>\n",
       "      <td>0</td>\n",
       "      <td>0</td>\n",
       "      <td>0</td>\n",
       "      <td>52</td>\n",
       "      <td>51</td>\n",
       "      <td>...</td>\n",
       "      <td>0.0</td>\n",
       "      <td>0.0</td>\n",
       "      <td>43.0</td>\n",
       "      <td>1.0000</td>\n",
       "      <td>0</td>\n",
       "      <td>0</td>\n",
       "      <td>37</td>\n",
       "      <td>40</td>\n",
       "      <td>725</td>\n",
       "      <td>0.0</td>\n",
       "    </tr>\n",
       "    <tr>\n",
       "      <th>1001198</th>\n",
       "      <td>21</td>\n",
       "      <td>21</td>\n",
       "      <td>0</td>\n",
       "      <td>0</td>\n",
       "      <td>0</td>\n",
       "      <td>0</td>\n",
       "      <td>0</td>\n",
       "      <td>0</td>\n",
       "      <td>0</td>\n",
       "      <td>0</td>\n",
       "      <td>...</td>\n",
       "      <td>0.0</td>\n",
       "      <td>0.0</td>\n",
       "      <td>10.0</td>\n",
       "      <td>1.4000</td>\n",
       "      <td>0</td>\n",
       "      <td>0</td>\n",
       "      <td>0</td>\n",
       "      <td>0</td>\n",
       "      <td>0</td>\n",
       "      <td>0.0</td>\n",
       "    </tr>\n",
       "    <tr>\n",
       "      <th>1001279</th>\n",
       "      <td>9</td>\n",
       "      <td>9</td>\n",
       "      <td>0</td>\n",
       "      <td>0</td>\n",
       "      <td>1</td>\n",
       "      <td>0</td>\n",
       "      <td>0</td>\n",
       "      <td>0</td>\n",
       "      <td>28</td>\n",
       "      <td>28</td>\n",
       "      <td>...</td>\n",
       "      <td>0.0</td>\n",
       "      <td>0.0</td>\n",
       "      <td>50.0</td>\n",
       "      <td>1.5000</td>\n",
       "      <td>0</td>\n",
       "      <td>0</td>\n",
       "      <td>25</td>\n",
       "      <td>42</td>\n",
       "      <td>56</td>\n",
       "      <td>0.0</td>\n",
       "    </tr>\n",
       "    <tr>\n",
       "      <th>1002212</th>\n",
       "      <td>10</td>\n",
       "      <td>10</td>\n",
       "      <td>1</td>\n",
       "      <td>1</td>\n",
       "      <td>14</td>\n",
       "      <td>0</td>\n",
       "      <td>2</td>\n",
       "      <td>0</td>\n",
       "      <td>11</td>\n",
       "      <td>11</td>\n",
       "      <td>...</td>\n",
       "      <td>0.0</td>\n",
       "      <td>0.0</td>\n",
       "      <td>12.0</td>\n",
       "      <td>1.2500</td>\n",
       "      <td>4</td>\n",
       "      <td>0</td>\n",
       "      <td>124</td>\n",
       "      <td>0</td>\n",
       "      <td>477</td>\n",
       "      <td>0.0</td>\n",
       "    </tr>\n",
       "    <tr>\n",
       "      <th>1002538</th>\n",
       "      <td>8</td>\n",
       "      <td>8</td>\n",
       "      <td>0</td>\n",
       "      <td>0</td>\n",
       "      <td>2</td>\n",
       "      <td>0</td>\n",
       "      <td>0</td>\n",
       "      <td>6</td>\n",
       "      <td>22</td>\n",
       "      <td>22</td>\n",
       "      <td>...</td>\n",
       "      <td>0.0</td>\n",
       "      <td>0.0</td>\n",
       "      <td>23.0</td>\n",
       "      <td>1.3333</td>\n",
       "      <td>0</td>\n",
       "      <td>0</td>\n",
       "      <td>26</td>\n",
       "      <td>3</td>\n",
       "      <td>436</td>\n",
       "      <td>0.0</td>\n",
       "    </tr>\n",
       "  </tbody>\n",
       "</table>\n",
       "<p>5 rows × 172 columns</p>\n",
       "</div>"
      ],
      "text/plain": [
       "               103  104  110  112  113  114  115  116  118  119  ...  197  \\\n",
       "actor_account                                                    ...        \n",
       "1000115         11   10    0    0    2    0    0    0   52   51  ...  0.0   \n",
       "1001198         21   21    0    0    0    0    0    0    0    0  ...  0.0   \n",
       "1001279          9    9    0    0    1    0    0    0   28   28  ...  0.0   \n",
       "1002212         10   10    1    1   14    0    2    0   11   11  ...  0.0   \n",
       "1002538          8    8    0    0    2    0    0    6   22   22  ...  0.0   \n",
       "\n",
       "               607  max_level  same_ip_rate  friend_action  assist_option  \\\n",
       "actor_account                                                               \n",
       "1000115        0.0       43.0        1.0000              0              0   \n",
       "1001198        0.0       10.0        1.4000              0              0   \n",
       "1001279        0.0       50.0        1.5000              0              0   \n",
       "1002212        0.0       12.0        1.2500              4              0   \n",
       "1002538        0.0       23.0        1.3333              0              0   \n",
       "\n",
       "               skill_del_or_get  stigmaskill_del_or_get  quest_log_count  \\\n",
       "actor_account                                                              \n",
       "1000115                      37                      40              725   \n",
       "1001198                       0                       0                0   \n",
       "1001279                      25                      42               56   \n",
       "1002212                     124                       0              477   \n",
       "1002538                      26                       3              436   \n",
       "\n",
       "               about_region  \n",
       "actor_account                \n",
       "1000115                 0.0  \n",
       "1001198                 0.0  \n",
       "1001279                 0.0  \n",
       "1002212                 0.0  \n",
       "1002538                 0.0  \n",
       "\n",
       "[5 rows x 172 columns]"
      ]
     },
     "execution_count": 6,
     "metadata": {},
     "output_type": "execute_result"
    }
   ],
   "source": [
    "train05.head()"
   ]
  },
  {
   "cell_type": "code",
   "execution_count": 30,
   "metadata": {},
   "outputs": [],
   "source": [
    "label = pd.read_csv('./labeled_account.csv')\n",
    "label = label.rename({'account':'actor_account'}, axis = 1)"
   ]
  },
  {
   "cell_type": "code",
   "execution_count": 33,
   "metadata": {},
   "outputs": [],
   "source": [
    "data = pd.merge(train05, label, on = 'actor_account')"
   ]
  },
  {
   "cell_type": "code",
   "execution_count": 8,
   "metadata": {},
   "outputs": [],
   "source": [
    "train05.to_csv('TEST.csv', index = True)"
   ]
  },
  {
   "cell_type": "code",
   "execution_count": null,
   "metadata": {},
   "outputs": [],
   "source": []
  }
 ],
 "metadata": {
  "kernelspec": {
   "display_name": "Python 3",
   "language": "python",
   "name": "python3"
  },
  "language_info": {
   "codemirror_mode": {
    "name": "ipython",
    "version": 3
   },
   "file_extension": ".py",
   "mimetype": "text/x-python",
   "name": "python",
   "nbconvert_exporter": "python",
   "pygments_lexer": "ipython3",
   "version": "3.8.3"
  },
  "toc": {
   "base_numbering": 1,
   "nav_menu": {},
   "number_sections": true,
   "sideBar": true,
   "skip_h1_title": false,
   "title_cell": "Table of Contents",
   "title_sidebar": "Contents",
   "toc_cell": false,
   "toc_position": {},
   "toc_section_display": true,
   "toc_window_display": false
  },
  "varInspector": {
   "cols": {
    "lenName": 16,
    "lenType": 16,
    "lenVar": 40
   },
   "kernels_config": {
    "python": {
     "delete_cmd_postfix": "",
     "delete_cmd_prefix": "del ",
     "library": "var_list.py",
     "varRefreshCmd": "print(var_dic_list())"
    },
    "r": {
     "delete_cmd_postfix": ") ",
     "delete_cmd_prefix": "rm(",
     "library": "var_list.r",
     "varRefreshCmd": "cat(var_dic_list()) "
    }
   },
   "types_to_exclude": [
    "module",
    "function",
    "builtin_function_or_method",
    "instance",
    "_Feature"
   ],
   "window_display": false
  }
 },
 "nbformat": 4,
 "nbformat_minor": 4
}
